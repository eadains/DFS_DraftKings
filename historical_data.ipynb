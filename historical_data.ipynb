{
 "cells": [
  {
   "cell_type": "code",
   "execution_count": 1,
   "id": "90277310",
   "metadata": {},
   "outputs": [],
   "source": [
    "import pandas as pd\n",
    "import numpy as np\n",
    "import os\n",
    "from difflib import get_close_matches"
   ]
  },
  {
   "cell_type": "code",
   "execution_count": 2,
   "id": "7bb17054",
   "metadata": {},
   "outputs": [],
   "source": [
    "downloads = \"/mnt/c/Users/Erik/Downloads\"\n",
    "\n",
    "def opp_pitcher(x):\n",
    "    # If player is pitcher, return nothing\n",
    "    if x[\"Position\"] == \"P\":\n",
    "        return np.nan\n",
    "\n",
    "    series = slate.loc[\n",
    "        (slate[\"Team\"] == x[\"Opponent\"]) & (slate[\"Position\"] == \"P\"), \"Name\"\n",
    "    ]\n",
    "    # Error if no opposing pitcher is found\n",
    "    if len(series) == 0:\n",
    "        raise ValueError(f\"{x} doesn't have an opposing pitcher\")\n",
    "    # Error if more than one opposing pitcher is found\n",
    "    if len(series) > 1:\n",
    "        raise ValueError(f\"{x} Multiple Opposing Pitchers identified. Data Issues.\")\n",
    "    else:\n",
    "        return series.iloc[0]\n",
    "\n",
    "\n",
    "def close_matches(x, possible):\n",
    "    matches = get_close_matches(x, possible, cutoff=0.80)\n",
    "    if matches:\n",
    "        return matches[0]\n",
    "    else:\n",
    "        return np.nan\n",
    "\n",
    "\n",
    "def make_game(row):\n",
    "    if row[\"HomeOrAway\"] == \"HOME\":\n",
    "        return f\"{row['Opponent']}@{row['Team']}\"\n",
    "    elif row[\"HomeOrAway\"] == \"AWAY\":\n",
    "        return f\"{row['Team']}@{row['Opponent']}\""
   ]
  },
  {
   "cell_type": "code",
   "execution_count": 17,
   "id": "274b8ae2",
   "metadata": {},
   "outputs": [
    {
     "name": "stdout",
     "output_type": "stream",
     "text": [
      "Date: 2022-07-05\n"
     ]
    }
   ],
   "source": [
    "slate = pd.read_csv(downloads + \"/draftkings.csv\")\n",
    "slate = slate.drop_duplicates(subset=[\"Name\", \"Team\"])\n",
    "proj = pd.concat([pd.read_csv(downloads + \"/fantasy-baseball-projections.csv\"),\n",
    "                     pd.read_csv(downloads + \"/fantasy-baseball-projections (1).csv\")]\n",
    "                   )\n",
    "# Double headers and other strange issues cause multiple entries,\n",
    "# just drop them. I expect this introduces some error.\n",
    "proj = proj.drop_duplicates(subset=[\"Name\", \"Team\"])\n",
    "stats = pd.concat([pd.read_csv(downloads + \"/fantasy-baseball-leaders.csv\"),\n",
    "                     pd.read_csv(downloads + \"/fantasy-baseball-leaders (1).csv\")]\n",
    "                   )\n",
    "stats = stats.drop_duplicates(subset=[\"Name\", \"Team\"])\n",
    "\n",
    "slate = slate.merge(proj, on=[\"Name\", \"Team\"], how=\"left\", suffixes=(None, \"_r\"))\n",
    "# Make game string\n",
    "slate[\"Game\"] = slate.apply(make_game, axis=1)\n",
    "# Assume players with multiple positions listed only play the first one listed\n",
    "slate[\"Position\"] = slate[\"Position\"].str.split(\"/\", expand=True)[0]\n",
    "# Replace SP and RP with P\n",
    "slate[\"Position\"] = slate[\"Position\"].replace({\"SP\": \"P\", \"RP\": \"P\"})\n",
    "# Drop batters with no batting order\n",
    "slate = slate.drop(slate[(slate[\"BattingOrder\"].isna()) & (slate[\"Position\"] != \"P\")].index)\n",
    "# Set all pitchers to have 0 batting order\n",
    "slate[\"BattingOrder\"] = slate[\"BattingOrder\"].replace({np.nan: 0})\n",
    "slate[\"BattingOrder\"] = slate[\"BattingOrder\"].astype(int)\n",
    "# Ignore players with 0 projections\n",
    "slate = slate[slate[\"FantasyPointsDraftKings\"] > 0]\n",
    "slate[\"Opp_Pitcher\"] = slate.apply(opp_pitcher, axis=1)\n",
    "\n",
    "slate = slate.merge(stats, on=[\"Name\", \"Team\"], how=\"left\", suffixes=(None, \"_realized\"))\n",
    "slate = slate[[\"Name\", \"Position\", \"OperatorSalary\", \"Game\", \"Team\", \"Opponent\", \"BattingOrder\", \"Opp_Pitcher\", \"FantasyPointsDraftKings\", \"FantasyPointsDraftKings_realized\"]]\n",
    "slate.columns = [\"Name\", \"Position\", \"Salary\", \"Game\", \"Team\", \"Opponent\", \"Order\", \"Opp_Pitcher\", \"Projection\", \"Scored\"]\n",
    "\n",
    "date = input(\"Date: \")\n",
    "slate.to_csv(f\"./data/realized_slates/{date}.csv\", index=False)\n",
    "\n",
    "os.remove(downloads + \"/draftkings.csv\")\n",
    "os.remove(downloads + \"/fantasy-baseball-projections.csv\")\n",
    "os.remove(downloads + \"/fantasy-baseball-projections (1).csv\")\n",
    "os.remove(downloads + \"/fantasy-baseball-leaders.csv\")\n",
    "os.remove(downloads + \"/fantasy-baseball-leaders (1).csv\")"
   ]
  },
  {
   "cell_type": "code",
   "execution_count": null,
   "id": "af9c559a",
   "metadata": {},
   "outputs": [],
   "source": []
  }
 ],
 "metadata": {
  "kernelspec": {
   "display_name": "Python 3 (ipykernel)",
   "language": "python",
   "name": "python3"
  },
  "language_info": {
   "codemirror_mode": {
    "name": "ipython",
    "version": 3
   },
   "file_extension": ".py",
   "mimetype": "text/x-python",
   "name": "python",
   "nbconvert_exporter": "python",
   "pygments_lexer": "ipython3",
   "version": "3.9.12"
  }
 },
 "nbformat": 4,
 "nbformat_minor": 5
}
