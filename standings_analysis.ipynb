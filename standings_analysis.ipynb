{
 "cells": [
  {
   "cell_type": "code",
   "execution_count": 1,
   "id": "dd28e9e4",
   "metadata": {},
   "outputs": [],
   "source": [
    "import pandas as pd\n",
    "import numpy as np\n",
    "import matplotlib.pyplot as plt\n",
    "import os"
   ]
  },
  {
   "cell_type": "code",
   "execution_count": 2,
   "id": "b1c0150f",
   "metadata": {},
   "outputs": [],
   "source": [
    "realized_scores = pd.read_csv(\"./mlb_standings.csv\", header=None, names=[\"Date\", \"NumGames\", \"Overlap\"] + [f\"Lineup_{n+1}\" for n in range(0,50)], index_col=\"Date\", parse_dates=True)"
   ]
  },
  {
   "cell_type": "code",
   "execution_count": 69,
   "id": "e15691e7",
   "metadata": {},
   "outputs": [],
   "source": [
    "def find_rank(frame, points):\n",
    "    return frame[\"Rank\"].iloc[(frame[\"Points\"] - points).abs().argsort()[0]]"
   ]
  },
  {
   "cell_type": "code",
   "execution_count": 133,
   "id": "9cf4a96b",
   "metadata": {
    "scrolled": true
   },
   "outputs": [],
   "source": [
    "results_total = []\n",
    "for date in [str(realized_scores.index.unique()[n].date()) for n in range(1, 6)]:\n",
    "    rankings = pd.read_csv(f\"./data/mlb_standings/{date}.csv\")\n",
    "    date_select = realized_scores.loc[date]\n",
    "    results = {}\n",
    "    for overlap in range(1, 10):\n",
    "        ranks = []\n",
    "        scores = date_select.loc[date_select[\"Overlap\"] == overlap, date_select.columns[2:]].values.flatten()\n",
    "        for score in scores:\n",
    "            ranks.append(find_rank(rankings, score))\n",
    "        results[overlap] = sum(ranks) / 50\n",
    "    results_total.append(results)"
   ]
  },
  {
   "cell_type": "code",
   "execution_count": 134,
   "id": "b179b82b",
   "metadata": {},
   "outputs": [
    {
     "data": {
      "text/plain": [
       "[{1: 15919.02,\n",
       "  2: 12872.0,\n",
       "  3: 12875.0,\n",
       "  4: 10458.48,\n",
       "  5: 10169.82,\n",
       "  6: 9894.98,\n",
       "  7: 10099.16,\n",
       "  8: 9809.68,\n",
       "  9: 10157.32},\n",
       " {1: 16612.46,\n",
       "  2: 13229.8,\n",
       "  3: 12145.76,\n",
       "  4: 11539.84,\n",
       "  5: 12083.88,\n",
       "  6: 10816.14,\n",
       "  7: 10126.8,\n",
       "  8: 8852.2,\n",
       "  9: 8879.78},\n",
       " {1: 20005.2,\n",
       "  2: 17719.96,\n",
       "  3: 16928.84,\n",
       "  4: 13539.18,\n",
       "  5: 11883.2,\n",
       "  6: 12060.16,\n",
       "  7: 9627.58,\n",
       "  8: 10007.9,\n",
       "  9: 9110.46},\n",
       " {1: 22870.2,\n",
       "  2: 24751.66,\n",
       "  3: 21798.98,\n",
       "  4: 22830.3,\n",
       "  5: 23637.62,\n",
       "  6: 23528.1,\n",
       "  7: 23099.82,\n",
       "  8: 21914.44,\n",
       "  9: 19510.82},\n",
       " {1: 21748.56,\n",
       "  2: 17145.4,\n",
       "  3: 17807.0,\n",
       "  4: 17487.18,\n",
       "  5: 17733.58,\n",
       "  6: 17501.7,\n",
       "  7: 18506.72,\n",
       "  8: 20070.86,\n",
       "  9: 18727.1}]"
      ]
     },
     "execution_count": 134,
     "metadata": {},
     "output_type": "execute_result"
    }
   ],
   "source": [
    "results_total"
   ]
  },
  {
   "cell_type": "code",
   "execution_count": 143,
   "id": "c538c99a",
   "metadata": {},
   "outputs": [
    {
     "data": {
      "text/plain": [
       "{1: 19431.088,\n",
       " 2: 17143.764000000003,\n",
       " 3: 16311.116,\n",
       " 4: 15170.996000000003,\n",
       " 5: 15101.619999999999,\n",
       " 6: 14760.216,\n",
       " 7: 14292.016,\n",
       " 8: 14131.016,\n",
       " 9: 13277.096}"
      ]
     },
     "execution_count": 143,
     "metadata": {},
     "output_type": "execute_result"
    }
   ],
   "source": [
    "{n: np.mean([x[n] for x in results_total]) for n in range(1, 10)}"
   ]
  },
  {
   "cell_type": "code",
   "execution_count": null,
   "id": "f650cc9c",
   "metadata": {},
   "outputs": [],
   "source": []
  }
 ],
 "metadata": {
  "kernelspec": {
   "display_name": "Python 3 (ipykernel)",
   "language": "python",
   "name": "python3"
  },
  "language_info": {
   "codemirror_mode": {
    "name": "ipython",
    "version": 3
   },
   "file_extension": ".py",
   "mimetype": "text/x-python",
   "name": "python",
   "nbconvert_exporter": "python",
   "pygments_lexer": "ipython3",
   "version": "3.9.12"
  }
 },
 "nbformat": 4,
 "nbformat_minor": 5
}
